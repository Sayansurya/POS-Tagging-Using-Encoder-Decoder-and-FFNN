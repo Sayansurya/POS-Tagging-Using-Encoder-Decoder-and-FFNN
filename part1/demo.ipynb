{
 "cells": [
  {
   "cell_type": "code",
   "execution_count": null,
   "metadata": {},
   "outputs": [],
   "source": [
    "import torch \n",
    "from model import FFNN\n",
    "import re\n",
    "from gensim.models import KeyedVectors\n",
    "import pickle"
   ]
  },
  {
   "cell_type": "code",
   "execution_count": null,
   "metadata": {},
   "outputs": [],
   "source": [
    "torch.manual_seed(3137)"
   ]
  },
  {
   "cell_type": "code",
   "execution_count": null,
   "metadata": {},
   "outputs": [],
   "source": [
    "index2tag = pickle.load(open('../data/index_to_tag.pickle', 'rb'))"
   ]
  },
  {
   "cell_type": "code",
   "execution_count": null,
   "metadata": {},
   "outputs": [],
   "source": [
    "word2vec = KeyedVectors.load_word2vec_format('../word_vectors/GoogleNews-vectors-negative300.bin', binary=True)"
   ]
  },
  {
   "cell_type": "code",
   "execution_count": null,
   "metadata": {},
   "outputs": [],
   "source": [
    "unknown_words = pickle.load(open('../word_vectors/unknown_words.pickle', 'rb'))"
   ]
  },
  {
   "cell_type": "code",
   "execution_count": null,
   "metadata": {},
   "outputs": [],
   "source": [
    "def gen_wv(word, rand=True): # generate word vectors \n",
    "    global word2vec, unknown_words\n",
    "    word = word.lower()\n",
    "    try:\n",
    "        word_vec = torch.tensor(word2vec[word]).reshape(1,-1) \n",
    "        return word_vec\n",
    "    except: # not in word2vec\n",
    "        try:\n",
    "            if word in unknown_words.keys(): # if in unknown words\n",
    "                word_vec = unknown_words[word].clone().detach().reshape(1,-1)\n",
    "                return word_vec\n",
    "            else:\n",
    "                if re.search(\"'\", word):\n",
    "                    word = re.split(\"'\", word)[0] # words with apostrophe are queried by removing apostrophe \n",
    "                    word_vec = torch.tensor(word2vec[word]).reshape(1,-1) \n",
    "                    return word_vec\n",
    "                if re.search('-', word): # for compound words, word vector of each word is averaged \n",
    "                    word_vec = torch.randn((1,300)) if rand else torch.zeros((1,300))\n",
    "                    words = re.split('-', word)\n",
    "                    for w in words:\n",
    "                        try:\n",
    "                            word_vec += word2vec[w]\n",
    "                        except:\n",
    "                            if w in unknown_words.keys():\n",
    "                                word_vec += unknown_words[w]                            \n",
    "                    word_vec = word_vec/len(words)\n",
    "                    return word_vec\n",
    "                else:\n",
    "                    if word not in unknown_words.keys():\n",
    "                        word_vec = torch.randn((1,300)) if rand else torch.zeros((1,300))\n",
    "                    else:\n",
    "                        word_vec = unknown_words[word]\n",
    "                    return word_vec\n",
    "        except:\n",
    "            if word not in unknown_words.keys():\n",
    "                word_vec = torch.randn((1,300)) if rand else torch.zeros((1,300))\n",
    "            else:\n",
    "                word_vec = unknown_words[word]\n",
    "            return word_vec"
   ]
  },
  {
   "cell_type": "code",
   "execution_count": null,
   "metadata": {},
   "outputs": [],
   "source": [
    "model = FFNN(900, 12, [1024, 512, 512])"
   ]
  },
  {
   "cell_type": "code",
   "execution_count": null,
   "metadata": {},
   "outputs": [],
   "source": [
    "model.load_state_dict(torch.load('runs/FINAL_epochs=8,batch_size=1024,hidden_dim=[1024, 512, 512],timestamp=2023-03-10_01-25-08/final_model.pt'))"
   ]
  },
  {
   "cell_type": "code",
   "execution_count": null,
   "metadata": {},
   "outputs": [],
   "source": [
    "sentence = 'The wheat cultivation in my town suffered due to scarcity of water .'"
   ]
  },
  {
   "cell_type": "code",
   "execution_count": null,
   "metadata": {},
   "outputs": [],
   "source": [
    "sentence_vector = []\n",
    "for word in sentence.split():\n",
    "    print(word)\n",
    "    word_vec = gen_wv(word)\n",
    "    sentence_vector.append(word_vec)\n",
    "    \n"
   ]
  },
  {
   "cell_type": "code",
   "execution_count": null,
   "metadata": {},
   "outputs": [],
   "source": [
    "sentence_vector = torch.cat(sentence_vector)"
   ]
  },
  {
   "cell_type": "code",
   "execution_count": null,
   "metadata": {},
   "outputs": [],
   "source": [
    "word_vec_dim=300\n",
    "context_size=1\n",
    "len_sentence = sentence_vector.shape[0]\n",
    "\n",
    "ffnn_input = []\n",
    "\n",
    "for word_index in range(len_sentence):\n",
    "    # index of context window w.r.t to index of word in sentence\n",
    "    index = torch.cat((word_index - (context_size - torch.arange(context_size)), word_index + (torch.arange(context_size+1))))\n",
    "    # pad with zero if no words before word to be tagged\n",
    "    # pad with zero if no words after the word to be tagged\n",
    "    context_vector = torch.cat((\n",
    "        torch.zeros((sum(index < 0), word_vec_dim)),\n",
    "        sentence_vector.index_select(\n",
    "            dim=0, index=index[(index >= 0) & (index < len_sentence)]),\n",
    "        torch.zeros((sum(index >= len_sentence), word_vec_dim)),\n",
    "    )).flatten()\n",
    "    ffnn_input.append(context_vector.reshape(1,-1))"
   ]
  },
  {
   "cell_type": "code",
   "execution_count": null,
   "metadata": {},
   "outputs": [],
   "source": [
    "ffnn_input = torch.cat(ffnn_input)"
   ]
  },
  {
   "cell_type": "code",
   "execution_count": null,
   "metadata": {},
   "outputs": [],
   "source": []
  },
  {
   "cell_type": "code",
   "execution_count": null,
   "metadata": {},
   "outputs": [],
   "source": [
    "with torch.no_grad():\n",
    "    output = model.predict(ffnn_input).dim"
   ]
  },
  {
   "cell_type": "code",
   "execution_count": null,
   "metadata": {},
   "outputs": [],
   "source": [
    "tags = []\n",
    "for i in torch.argmax(output, dim=1).tolist():\n",
    "    tags.append(index2tag[i])"
   ]
  },
  {
   "cell_type": "code",
   "execution_count": null,
   "metadata": {},
   "outputs": [],
   "source": [
    "words = sentence.split()\n",
    "for i in range(len_sentence):\n",
    "    print(words[i], tags[i])"
   ]
  }
 ],
 "metadata": {
  "kernelspec": {
   "display_name": "pytorch-cuda",
   "language": "python",
   "name": "python3"
  },
  "language_info": {
   "codemirror_mode": {
    "name": "ipython",
    "version": 3
   },
   "file_extension": ".py",
   "mimetype": "text/x-python",
   "name": "python",
   "nbconvert_exporter": "python",
   "pygments_lexer": "ipython3",
   "version": "3.10.9"
  },
  "orig_nbformat": 4
 },
 "nbformat": 4,
 "nbformat_minor": 2
}
